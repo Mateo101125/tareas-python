{
 "cells": [
  {
   "cell_type": "markdown",
   "id": "ab5e32aa",
   "metadata": {},
   "source": [
    "### <center><h2> INGENIERÍA EN BIOTECNOLOGÍA</h2></center>\n",
    "# <center><h1 style=\"color:gray\">GBI6 - BIOINFORMÁTICA</h1></center>\n",
    "\n",
    "<img src=\"https://www.ikiam.edu.ec/img/logo-ikiam-grey.png\" width=400 height=300 />\n",
    "\n",
    "# Tarea6, Funciones y modulos\n",
    "Crear un Júpiter Notebook tarea6_alelos.ipynb, cargar el módulo alelos y ejecutar las funciones hasta obtener la generación 100. Asegurarse que este cuaderno de jupyter tenga sus datos personales, texto de explicación del ejercicio y de los resultados. \n"
   ]
  },
  {
   "cell_type": "markdown",
   "id": "9348a180",
   "metadata": {},
   "source": [
    "# Mateo Andrei Fernández Valverde\n",
    "## GBI6-BDGNG02\n"
   ]
  },
  {
   "cell_type": "code",
   "execution_count": 4,
   "id": "5b0c2047",
   "metadata": {},
   "outputs": [],
   "source": [
    "import alelos #importo el modulo alelos.py\n",
    "import scipy #importo el scipy para la generacion de numeros aleatorios "
   ]
  },
  {
   "cell_type": "code",
   "execution_count": 30,
   "id": "c58d871d",
   "metadata": {},
   "outputs": [
    {
     "name": "stdout",
     "output_type": "stream",
     "text": [
      "[('a', 'a'), ('A', 'a'), ('a', 'A'), ('A', 'A'), ('a', 'a'), ('A', 'a')]\n",
      "{'AA': 1, 'aa': 2, 'Aa': 2, 'aA': 1}\n"
     ]
    },
    {
     "data": {
      "text/plain": [
       "6"
      ]
     },
     "execution_count": 30,
     "metadata": {},
     "output_type": "execute_result"
    }
   ],
   "source": [
    "Generacion1= alelos.build_population(6,0.5) #genero 6 individuos con una probabilidad de 50% \n",
    "print(Generacion1) #imprimo esta primera generación\n",
    "Conteo= alelos.compute_frequencies(Generacion1) #me encunta el numero de parrejas formadas \n",
    "print(Conteo) #imprimo este conteo\n",
    "len(Generacion1) # para saber el numero de individuos que tengo en la generacion "
   ]
  },
  {
   "cell_type": "code",
   "execution_count": 31,
   "id": "4c474fe2",
   "metadata": {},
   "outputs": [
    {
     "name": "stdout",
     "output_type": "stream",
     "text": [
      "{'AA': 2, 'aa': 1, 'Aa': 3, 'aA': 0}\n",
      "{'AA': 1, 'aa': 4, 'Aa': 0, 'aA': 1}\n",
      "{'AA': 1, 'aa': 3, 'Aa': 1, 'aA': 1}\n",
      "{'AA': 1, 'aa': 1, 'Aa': 2, 'aA': 2}\n",
      "{'AA': 1, 'aa': 1, 'Aa': 1, 'aA': 3}\n",
      "{'AA': 1, 'aa': 1, 'Aa': 2, 'aA': 2}\n",
      "{'AA': 0, 'aa': 3, 'Aa': 3, 'aA': 0}\n",
      "{'AA': 1, 'aa': 2, 'Aa': 2, 'aA': 1}\n",
      "{'AA': 0, 'aa': 1, 'Aa': 2, 'aA': 3}\n",
      "{'AA': 1, 'aa': 4, 'Aa': 1, 'aA': 0}\n",
      "{'AA': 0, 'aa': 1, 'Aa': 1, 'aA': 4}\n",
      "{'AA': 1, 'aa': 4, 'Aa': 0, 'aA': 1}\n",
      "{'AA': 0, 'aa': 5, 'Aa': 1, 'aA': 0}\n",
      "{'AA': 0, 'aa': 2, 'Aa': 1, 'aA': 3}\n",
      "{'AA': 2, 'aa': 3, 'Aa': 1, 'aA': 0}\n",
      "{'AA': 4, 'aa': 0, 'Aa': 1, 'aA': 1}\n",
      "{'AA': 2, 'aa': 1, 'Aa': 1, 'aA': 2}\n",
      "{'AA': 2, 'aa': 2, 'Aa': 1, 'aA': 1}\n",
      "{'AA': 1, 'aa': 3, 'Aa': 2, 'aA': 0}\n",
      "{'AA': 0, 'aa': 1, 'Aa': 2, 'aA': 3}\n",
      "{'AA': 1, 'aa': 2, 'Aa': 0, 'aA': 3}\n",
      "{'AA': 3, 'aa': 2, 'Aa': 0, 'aA': 1}\n",
      "{'AA': 0, 'aa': 3, 'Aa': 2, 'aA': 1}\n",
      "{'AA': 1, 'aa': 3, 'Aa': 0, 'aA': 2}\n",
      "{'AA': 1, 'aa': 3, 'Aa': 1, 'aA': 1}\n",
      "{'AA': 0, 'aa': 1, 'Aa': 1, 'aA': 4}\n",
      "{'AA': 0, 'aa': 3, 'Aa': 1, 'aA': 2}\n",
      "{'AA': 1, 'aa': 1, 'Aa': 2, 'aA': 2}\n",
      "{'AA': 1, 'aa': 1, 'Aa': 1, 'aA': 3}\n",
      "{'AA': 0, 'aa': 1, 'Aa': 2, 'aA': 3}\n",
      "{'AA': 1, 'aa': 1, 'Aa': 2, 'aA': 2}\n",
      "{'AA': 1, 'aa': 2, 'Aa': 1, 'aA': 2}\n",
      "{'AA': 0, 'aa': 2, 'Aa': 2, 'aA': 2}\n",
      "{'AA': 0, 'aa': 4, 'Aa': 0, 'aA': 2}\n",
      "{'AA': 1, 'aa': 0, 'Aa': 2, 'aA': 3}\n",
      "{'AA': 1, 'aa': 4, 'Aa': 1, 'aA': 0}\n",
      "{'AA': 0, 'aa': 3, 'Aa': 2, 'aA': 1}\n",
      "{'AA': 2, 'aa': 1, 'Aa': 1, 'aA': 2}\n",
      "{'AA': 0, 'aa': 2, 'Aa': 1, 'aA': 3}\n",
      "{'AA': 0, 'aa': 4, 'Aa': 2, 'aA': 0}\n",
      "{'AA': 0, 'aa': 1, 'Aa': 3, 'aA': 2}\n",
      "{'AA': 1, 'aa': 0, 'Aa': 2, 'aA': 3}\n",
      "{'AA': 1, 'aa': 2, 'Aa': 2, 'aA': 1}\n",
      "{'AA': 0, 'aa': 2, 'Aa': 2, 'aA': 2}\n",
      "{'AA': 3, 'aa': 2, 'Aa': 0, 'aA': 1}\n",
      "{'AA': 0, 'aa': 4, 'Aa': 0, 'aA': 2}\n",
      "{'AA': 0, 'aa': 3, 'Aa': 3, 'aA': 0}\n",
      "{'AA': 0, 'aa': 2, 'Aa': 1, 'aA': 3}\n",
      "{'AA': 2, 'aa': 0, 'Aa': 4, 'aA': 0}\n",
      "{'AA': 1, 'aa': 2, 'Aa': 2, 'aA': 1}\n",
      "{'AA': 1, 'aa': 2, 'Aa': 1, 'aA': 2}\n",
      "{'AA': 1, 'aa': 3, 'Aa': 2, 'aA': 0}\n",
      "{'AA': 1, 'aa': 4, 'Aa': 0, 'aA': 1}\n",
      "{'AA': 0, 'aa': 2, 'Aa': 2, 'aA': 2}\n",
      "{'AA': 1, 'aa': 2, 'Aa': 2, 'aA': 1}\n",
      "{'AA': 2, 'aa': 2, 'Aa': 2, 'aA': 0}\n",
      "{'AA': 0, 'aa': 2, 'Aa': 3, 'aA': 1}\n",
      "{'AA': 2, 'aa': 3, 'Aa': 1, 'aA': 0}\n",
      "{'AA': 2, 'aa': 1, 'Aa': 1, 'aA': 2}\n",
      "{'AA': 1, 'aa': 3, 'Aa': 0, 'aA': 2}\n",
      "{'AA': 3, 'aa': 2, 'Aa': 0, 'aA': 1}\n",
      "{'AA': 1, 'aa': 3, 'Aa': 1, 'aA': 1}\n",
      "{'AA': 1, 'aa': 4, 'Aa': 0, 'aA': 1}\n",
      "{'AA': 0, 'aa': 1, 'Aa': 1, 'aA': 4}\n",
      "{'AA': 0, 'aa': 1, 'Aa': 2, 'aA': 3}\n",
      "{'AA': 1, 'aa': 3, 'Aa': 2, 'aA': 0}\n",
      "{'AA': 1, 'aa': 3, 'Aa': 1, 'aA': 1}\n",
      "{'AA': 0, 'aa': 4, 'Aa': 2, 'aA': 0}\n",
      "{'AA': 1, 'aa': 2, 'Aa': 2, 'aA': 1}\n",
      "{'AA': 2, 'aa': 1, 'Aa': 1, 'aA': 2}\n",
      "{'AA': 1, 'aa': 3, 'Aa': 2, 'aA': 0}\n",
      "{'AA': 2, 'aa': 3, 'Aa': 1, 'aA': 0}\n",
      "{'AA': 2, 'aa': 0, 'Aa': 3, 'aA': 1}\n",
      "{'AA': 1, 'aa': 4, 'Aa': 1, 'aA': 0}\n",
      "{'AA': 2, 'aa': 1, 'Aa': 1, 'aA': 2}\n",
      "{'AA': 1, 'aa': 0, 'Aa': 3, 'aA': 2}\n",
      "{'AA': 1, 'aa': 3, 'Aa': 1, 'aA': 1}\n",
      "{'AA': 3, 'aa': 1, 'Aa': 0, 'aA': 2}\n",
      "{'AA': 1, 'aa': 1, 'Aa': 2, 'aA': 2}\n",
      "{'AA': 0, 'aa': 2, 'Aa': 1, 'aA': 3}\n",
      "{'AA': 2, 'aa': 1, 'Aa': 0, 'aA': 3}\n",
      "{'AA': 1, 'aa': 1, 'Aa': 0, 'aA': 4}\n",
      "{'AA': 2, 'aa': 2, 'Aa': 2, 'aA': 0}\n",
      "{'AA': 2, 'aa': 2, 'Aa': 2, 'aA': 0}\n",
      "{'AA': 0, 'aa': 1, 'Aa': 2, 'aA': 3}\n",
      "{'AA': 2, 'aa': 2, 'Aa': 1, 'aA': 1}\n",
      "{'AA': 1, 'aa': 1, 'Aa': 1, 'aA': 3}\n",
      "{'AA': 0, 'aa': 3, 'Aa': 1, 'aA': 2}\n",
      "{'AA': 0, 'aa': 3, 'Aa': 3, 'aA': 0}\n",
      "{'AA': 1, 'aa': 1, 'Aa': 1, 'aA': 3}\n",
      "{'AA': 1, 'aa': 2, 'Aa': 2, 'aA': 1}\n",
      "{'AA': 2, 'aa': 0, 'Aa': 1, 'aA': 3}\n",
      "{'AA': 0, 'aa': 1, 'Aa': 5, 'aA': 0}\n",
      "{'AA': 0, 'aa': 4, 'Aa': 2, 'aA': 0}\n",
      "{'AA': 1, 'aa': 2, 'Aa': 0, 'aA': 3}\n",
      "{'AA': 1, 'aa': 2, 'Aa': 1, 'aA': 2}\n",
      "{'AA': 1, 'aa': 2, 'Aa': 1, 'aA': 2}\n",
      "{'AA': 2, 'aa': 1, 'Aa': 2, 'aA': 1}\n",
      "{'AA': 2, 'aa': 1, 'Aa': 2, 'aA': 1}\n",
      "{'AA': 0, 'aa': 1, 'Aa': 1, 'aA': 4}\n"
     ]
    }
   ],
   "source": [
    "lista_generaciones= []#lista vacia donde voy a cargar mis generaciones\n",
    "for i in range(100):\n",
    "    generacion_i=alelos.reproduce_population(Generacion1) #reproduzco la ga generacion1 aleatoriamente hasta obtener generaciones 100 veces\n",
    "    Conteo= alelos.compute_frequencies(generacion_i)# cuento el numero de parejas formadas en las 100 generaciones\n",
    "    print(Conteo) #imprimo el conteo\n",
    "    lista_generaciones.append(generacion_i)#cargo cada generacion a mi lista de generaciones\n"
   ]
  },
  {
   "cell_type": "code",
   "execution_count": 32,
   "id": "cd4213c2",
   "metadata": {},
   "outputs": [
    {
     "data": {
      "text/plain": [
       "100"
      ]
     },
     "execution_count": 32,
     "metadata": {},
     "output_type": "execute_result"
    }
   ],
   "source": [
    " len(lista_generaciones) #numero de generaciones"
   ]
  },
  {
   "cell_type": "code",
   "execution_count": 33,
   "id": "0e70f0c0",
   "metadata": {},
   "outputs": [
    {
     "name": "stdout",
     "output_type": "stream",
     "text": [
      "[[('A', 'a'), ('A', 'A'), ('A', 'a'), ('A', 'A'), ('a', 'a'), ('A', 'a')], [('a', 'a'), ('A', 'A'), ('a', 'a'), ('a', 'a'), ('a', 'A'), ('a', 'a')], [('a', 'a'), ('a', 'a'), ('A', 'a'), ('a', 'A'), ('A', 'A'), ('a', 'a')], [('a', 'A'), ('A', 'a'), ('a', 'A'), ('a', 'a'), ('A', 'a'), ('A', 'A')], [('a', 'A'), ('a', 'A'), ('A', 'a'), ('a', 'a'), ('A', 'A'), ('a', 'A')], [('a', 'a'), ('A', 'A'), ('A', 'a'), ('a', 'A'), ('A', 'a'), ('a', 'A')], [('A', 'a'), ('A', 'a'), ('a', 'a'), ('a', 'a'), ('A', 'a'), ('a', 'a')], [('a', 'a'), ('A', 'a'), ('A', 'a'), ('a', 'A'), ('A', 'A'), ('a', 'a')], [('a', 'A'), ('A', 'a'), ('a', 'a'), ('a', 'A'), ('a', 'A'), ('A', 'a')], [('a', 'a'), ('A', 'a'), ('a', 'a'), ('a', 'a'), ('a', 'a'), ('A', 'A')], [('a', 'A'), ('a', 'A'), ('a', 'a'), ('A', 'a'), ('a', 'A'), ('a', 'A')], [('a', 'A'), ('a', 'a'), ('A', 'A'), ('a', 'a'), ('a', 'a'), ('a', 'a')], [('a', 'a'), ('a', 'a'), ('a', 'a'), ('a', 'a'), ('a', 'a'), ('A', 'a')], [('a', 'a'), ('a', 'A'), ('A', 'a'), ('a', 'A'), ('a', 'a'), ('a', 'A')], [('A', 'a'), ('a', 'a'), ('A', 'A'), ('a', 'a'), ('a', 'a'), ('A', 'A')], [('A', 'A'), ('A', 'A'), ('A', 'A'), ('a', 'A'), ('A', 'A'), ('A', 'a')], [('A', 'A'), ('a', 'a'), ('A', 'a'), ('a', 'A'), ('a', 'A'), ('A', 'A')], [('a', 'a'), ('a', 'A'), ('A', 'A'), ('a', 'a'), ('A', 'a'), ('A', 'A')], [('A', 'a'), ('a', 'a'), ('a', 'a'), ('A', 'a'), ('a', 'a'), ('A', 'A')], [('a', 'a'), ('a', 'A'), ('a', 'A'), ('a', 'A'), ('A', 'a'), ('A', 'a')], [('a', 'a'), ('a', 'a'), ('a', 'A'), ('A', 'A'), ('a', 'A'), ('a', 'A')], [('A', 'A'), ('a', 'A'), ('a', 'a'), ('A', 'A'), ('a', 'a'), ('A', 'A')], [('a', 'A'), ('A', 'a'), ('A', 'a'), ('a', 'a'), ('a', 'a'), ('a', 'a')], [('a', 'a'), ('a', 'A'), ('A', 'A'), ('a', 'a'), ('a', 'a'), ('a', 'A')], [('a', 'a'), ('a', 'a'), ('a', 'A'), ('a', 'a'), ('A', 'A'), ('A', 'a')], [('a', 'A'), ('a', 'a'), ('a', 'A'), ('a', 'A'), ('A', 'a'), ('a', 'A')], [('a', 'a'), ('a', 'a'), ('a', 'A'), ('A', 'a'), ('a', 'a'), ('a', 'A')], [('a', 'A'), ('A', 'a'), ('A', 'A'), ('a', 'A'), ('a', 'a'), ('A', 'a')], [('a', 'A'), ('a', 'A'), ('A', 'A'), ('a', 'a'), ('A', 'a'), ('a', 'A')], [('A', 'a'), ('a', 'A'), ('a', 'a'), ('A', 'a'), ('a', 'A'), ('a', 'A')], [('A', 'a'), ('a', 'a'), ('a', 'A'), ('A', 'a'), ('A', 'A'), ('a', 'A')], [('a', 'a'), ('A', 'A'), ('A', 'a'), ('a', 'A'), ('a', 'a'), ('a', 'A')], [('a', 'a'), ('A', 'a'), ('a', 'A'), ('a', 'A'), ('a', 'a'), ('A', 'a')], [('a', 'a'), ('a', 'A'), ('a', 'a'), ('a', 'a'), ('a', 'a'), ('a', 'A')], [('a', 'A'), ('A', 'a'), ('A', 'a'), ('A', 'A'), ('a', 'A'), ('a', 'A')], [('a', 'a'), ('a', 'a'), ('A', 'A'), ('A', 'a'), ('a', 'a'), ('a', 'a')], [('a', 'a'), ('a', 'a'), ('A', 'a'), ('a', 'a'), ('A', 'a'), ('a', 'A')], [('a', 'a'), ('A', 'a'), ('A', 'A'), ('a', 'A'), ('a', 'A'), ('A', 'A')], [('a', 'A'), ('a', 'a'), ('a', 'a'), ('a', 'A'), ('A', 'a'), ('a', 'A')], [('A', 'a'), ('a', 'a'), ('a', 'a'), ('A', 'a'), ('a', 'a'), ('a', 'a')], [('a', 'A'), ('a', 'A'), ('a', 'a'), ('A', 'a'), ('A', 'a'), ('A', 'a')], [('A', 'a'), ('A', 'a'), ('a', 'A'), ('a', 'A'), ('a', 'A'), ('A', 'A')], [('A', 'a'), ('a', 'a'), ('a', 'A'), ('A', 'a'), ('A', 'A'), ('a', 'a')], [('a', 'A'), ('a', 'a'), ('A', 'a'), ('A', 'a'), ('a', 'a'), ('a', 'A')], [('A', 'A'), ('a', 'A'), ('A', 'A'), ('A', 'A'), ('a', 'a'), ('a', 'a')], [('a', 'a'), ('a', 'a'), ('a', 'a'), ('a', 'A'), ('a', 'A'), ('a', 'a')], [('a', 'a'), ('A', 'a'), ('a', 'a'), ('A', 'a'), ('a', 'a'), ('A', 'a')], [('A', 'a'), ('a', 'a'), ('a', 'A'), ('a', 'A'), ('a', 'a'), ('a', 'A')], [('A', 'A'), ('A', 'a'), ('A', 'a'), ('A', 'a'), ('A', 'A'), ('A', 'a')], [('a', 'A'), ('A', 'a'), ('a', 'a'), ('A', 'A'), ('A', 'a'), ('a', 'a')], [('a', 'a'), ('a', 'a'), ('a', 'A'), ('A', 'A'), ('a', 'A'), ('A', 'a')], [('A', 'a'), ('A', 'a'), ('a', 'a'), ('a', 'a'), ('a', 'a'), ('A', 'A')], [('a', 'a'), ('a', 'a'), ('a', 'A'), ('A', 'A'), ('a', 'a'), ('a', 'a')], [('A', 'a'), ('a', 'A'), ('a', 'A'), ('a', 'a'), ('a', 'a'), ('A', 'a')], [('A', 'a'), ('a', 'a'), ('a', 'A'), ('A', 'A'), ('A', 'a'), ('a', 'a')], [('A', 'A'), ('a', 'a'), ('A', 'a'), ('A', 'a'), ('A', 'A'), ('a', 'a')], [('a', 'a'), ('A', 'a'), ('a', 'a'), ('a', 'A'), ('A', 'a'), ('A', 'a')], [('A', 'a'), ('A', 'A'), ('a', 'a'), ('a', 'a'), ('A', 'A'), ('a', 'a')], [('a', 'A'), ('A', 'A'), ('a', 'a'), ('A', 'A'), ('a', 'A'), ('A', 'a')], [('a', 'A'), ('a', 'a'), ('a', 'a'), ('A', 'A'), ('a', 'A'), ('a', 'a')], [('a', 'A'), ('A', 'A'), ('A', 'A'), ('a', 'a'), ('A', 'A'), ('a', 'a')], [('A', 'A'), ('a', 'A'), ('a', 'a'), ('a', 'a'), ('a', 'a'), ('A', 'a')], [('a', 'a'), ('A', 'A'), ('a', 'a'), ('a', 'A'), ('a', 'a'), ('a', 'a')], [('a', 'A'), ('a', 'A'), ('a', 'A'), ('A', 'a'), ('a', 'A'), ('a', 'a')], [('a', 'A'), ('a', 'A'), ('A', 'a'), ('a', 'a'), ('a', 'A'), ('A', 'a')], [('a', 'a'), ('A', 'A'), ('a', 'a'), ('A', 'a'), ('A', 'a'), ('a', 'a')], [('A', 'a'), ('a', 'a'), ('a', 'A'), ('a', 'a'), ('A', 'A'), ('a', 'a')], [('A', 'a'), ('a', 'a'), ('a', 'a'), ('A', 'a'), ('a', 'a'), ('a', 'a')], [('a', 'A'), ('a', 'a'), ('A', 'a'), ('A', 'a'), ('A', 'A'), ('a', 'a')], [('a', 'A'), ('a', 'A'), ('A', 'A'), ('a', 'a'), ('A', 'a'), ('A', 'A')], [('A', 'a'), ('A', 'A'), ('a', 'a'), ('A', 'a'), ('a', 'a'), ('a', 'a')], [('a', 'a'), ('A', 'a'), ('a', 'a'), ('A', 'A'), ('a', 'a'), ('A', 'A')], [('A', 'a'), ('a', 'A'), ('A', 'a'), ('A', 'A'), ('A', 'A'), ('A', 'a')], [('A', 'a'), ('a', 'a'), ('a', 'a'), ('a', 'a'), ('a', 'a'), ('A', 'A')], [('A', 'A'), ('a', 'a'), ('a', 'A'), ('a', 'A'), ('A', 'A'), ('A', 'a')], [('a', 'A'), ('a', 'A'), ('A', 'a'), ('A', 'a'), ('A', 'A'), ('A', 'a')], [('A', 'a'), ('a', 'A'), ('a', 'a'), ('a', 'a'), ('a', 'a'), ('A', 'A')], [('A', 'A'), ('A', 'A'), ('a', 'a'), ('a', 'A'), ('A', 'A'), ('a', 'A')], [('A', 'a'), ('a', 'a'), ('A', 'A'), ('a', 'A'), ('A', 'a'), ('a', 'A')], [('a', 'A'), ('a', 'a'), ('a', 'A'), ('a', 'a'), ('A', 'a'), ('a', 'A')], [('a', 'A'), ('a', 'A'), ('a', 'a'), ('a', 'A'), ('A', 'A'), ('A', 'A')], [('a', 'A'), ('a', 'A'), ('a', 'a'), ('A', 'A'), ('a', 'A'), ('a', 'A')], [('A', 'A'), ('a', 'a'), ('A', 'a'), ('a', 'a'), ('A', 'a'), ('A', 'A')], [('A', 'a'), ('a', 'a'), ('A', 'A'), ('A', 'a'), ('a', 'a'), ('A', 'A')], [('a', 'a'), ('a', 'A'), ('a', 'A'), ('A', 'a'), ('A', 'a'), ('a', 'A')], [('a', 'a'), ('a', 'A'), ('A', 'a'), ('A', 'A'), ('a', 'a'), ('A', 'A')], [('A', 'a'), ('a', 'a'), ('a', 'A'), ('A', 'A'), ('a', 'A'), ('a', 'A')], [('a', 'a'), ('a', 'a'), ('A', 'a'), ('a', 'A'), ('a', 'a'), ('a', 'A')], [('A', 'a'), ('A', 'a'), ('a', 'a'), ('a', 'a'), ('A', 'a'), ('a', 'a')], [('a', 'A'), ('a', 'A'), ('a', 'A'), ('a', 'a'), ('A', 'a'), ('A', 'A')], [('a', 'a'), ('A', 'a'), ('a', 'a'), ('A', 'A'), ('A', 'a'), ('a', 'A')], [('a', 'A'), ('a', 'A'), ('a', 'A'), ('A', 'A'), ('A', 'A'), ('A', 'a')], [('A', 'a'), ('A', 'a'), ('A', 'a'), ('a', 'a'), ('A', 'a'), ('A', 'a')], [('a', 'a'), ('a', 'a'), ('A', 'a'), ('a', 'a'), ('a', 'a'), ('A', 'a')], [('a', 'A'), ('a', 'A'), ('a', 'a'), ('a', 'A'), ('A', 'A'), ('a', 'a')], [('a', 'A'), ('a', 'a'), ('a', 'A'), ('A', 'A'), ('a', 'a'), ('A', 'a')], [('a', 'A'), ('A', 'a'), ('a', 'A'), ('a', 'a'), ('a', 'a'), ('A', 'A')], [('a', 'A'), ('A', 'a'), ('A', 'A'), ('A', 'a'), ('A', 'A'), ('a', 'a')], [('a', 'a'), ('A', 'A'), ('a', 'A'), ('A', 'a'), ('A', 'a'), ('A', 'A')], [('a', 'A'), ('a', 'A'), ('a', 'A'), ('A', 'a'), ('a', 'a'), ('a', 'A')]]\n"
     ]
    }
   ],
   "source": [
    "print(lista_generaciones)# lista de mis generaciones"
   ]
  },
  {
   "cell_type": "code",
   "execution_count": null,
   "id": "30e03eb8",
   "metadata": {},
   "outputs": [],
   "source": []
  }
 ],
 "metadata": {
  "kernelspec": {
   "display_name": "Python 3 (ipykernel)",
   "language": "python",
   "name": "python3"
  },
  "language_info": {
   "codemirror_mode": {
    "name": "ipython",
    "version": 3
   },
   "file_extension": ".py",
   "mimetype": "text/x-python",
   "name": "python",
   "nbconvert_exporter": "python",
   "pygments_lexer": "ipython3",
   "version": "3.9.12"
  }
 },
 "nbformat": 4,
 "nbformat_minor": 5
}
