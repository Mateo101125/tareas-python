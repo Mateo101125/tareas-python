{
 "cells": [
  {
   "cell_type": "markdown",
   "id": "ab5e32aa",
   "metadata": {},
   "source": [
    "### <center><h2> INGENIERÍA EN BIOTECNOLOGÍA</h2></center>\n",
    "# <center><h1 style=\"color:gray\">GBI6 - BIOINFORMÁTICA</h1></center>\n",
    "\n",
    "<img src=\"https://www.ikiam.edu.ec/img/logo-ikiam-grey.png\" width=400 height=300 />\n",
    "\n",
    "# Tarea6, Funciones y modulos\n",
    "Crear un Júpiter Notebook tarea6_alelos.ipynb, cargar el módulo alelos y ejecutar las funciones hasta obtener la generación 100. Asegurarse que este cuaderno de jupyter tenga sus datos personales, texto de explicación del ejercicio y de los resultados. \n"
   ]
  },
  {
   "cell_type": "markdown",
   "id": "9348a180",
   "metadata": {},
   "source": [
    "# Mateo Andrei Fernández Valverde\n",
    "## GBI6-BDGNG02\n"
   ]
  },
  {
   "cell_type": "code",
   "execution_count": 80,
   "id": "5b0c2047",
   "metadata": {},
   "outputs": [],
   "source": [
    "import alelos #importo el modulo alelos.py\n",
    "import scipy #importo el scipy para la generacion de numeros aleatorios "
   ]
  },
  {
   "cell_type": "code",
   "execution_count": 81,
   "id": "c58d871d",
   "metadata": {},
   "outputs": [
    {
     "name": "stdout",
     "output_type": "stream",
     "text": [
      "[('A', 'A'), ('a', 'A'), ('A', 'A'), ('A', 'A'), ('a', 'A'), ('a', 'a'), ('A', 'A')]\n",
      "{'AA': 4, 'aa': 1, 'Aa': 0, 'aA': 2}\n"
     ]
    },
    {
     "data": {
      "text/plain": [
       "7"
      ]
     },
     "execution_count": 81,
     "metadata": {},
     "output_type": "execute_result"
    }
   ],
   "source": [
    "Generacion1= alelos.build_population(7,0.5) #genero 7 individuos con una probabilidad de 50% \n",
    "print(Generacion1) #imprimo esta primera generación\n",
    "Conteo= alelos.compute_frequencies(Generacion1) #me encunta el numero de parrejas formadas \n",
    "print(Conteo) #imprimo este conteo\n",
    "len(Generacion1) # para saber el numero de individuos que tengo en la generacion "
   ]
  },
  {
   "cell_type": "code",
   "execution_count": 88,
   "id": "12f6aff0",
   "metadata": {},
   "outputs": [
    {
     "name": "stdout",
     "output_type": "stream",
     "text": [
      "[('a', 'A'), ('a', 'A'), ('A', 'a'), ('A', 'A'), ('A', 'A'), ('A', 'A'), ('a', 'a'), ('a', 'A'), ('a', 'A'), ('A', 'a'), ('A', 'A'), ('A', 'A'), ('A', 'A'), ('a', 'a')]\n",
      "{'AA': 6, 'aa': 2, 'Aa': 2, 'aA': 4}\n"
     ]
    },
    {
     "data": {
      "text/plain": [
       "14"
      ]
     },
     "execution_count": 88,
     "metadata": {},
     "output_type": "execute_result"
    }
   ],
   "source": [
    "Generacion2= 2* alelos.reproduce_population(Generacion1) #reproduzco y lo multiplico por 2 ya que considero que cada mezcla va a tener dos hijos en cambio de 1\n",
    "print(Generacion2) #imprimo la generacion \n",
    "Conteo2= alelos.compute_frequencies(Generacion2)# cuento el numero de parejas formadas\n",
    "print(Conteo2) #imprimo el conteo\n",
    "len(Generacion2)#cuento para saber el numeros de individuos de esta generacion "
   ]
  },
  {
   "cell_type": "code",
   "execution_count": 89,
   "id": "dacb5475",
   "metadata": {},
   "outputs": [
    {
     "name": "stdout",
     "output_type": "stream",
     "text": [
      "[('A', 'a'), ('A', 'a'), ('a', 'A'), ('A', 'A'), ('A', 'A'), ('a', 'A'), ('A', 'a'), ('a', 'A'), ('a', 'A'), ('a', 'A'), ('a', 'a'), ('A', 'a'), ('a', 'A'), ('A', 'A'), ('A', 'a'), ('A', 'a'), ('a', 'A'), ('A', 'A'), ('A', 'A'), ('a', 'A'), ('A', 'a'), ('a', 'A'), ('a', 'A'), ('a', 'A'), ('a', 'a'), ('A', 'a'), ('a', 'A'), ('A', 'A')]\n",
      "{'AA': 6, 'aa': 2, 'Aa': 8, 'aA': 12}\n"
     ]
    },
    {
     "data": {
      "text/plain": [
       "28"
      ]
     },
     "execution_count": 89,
     "metadata": {},
     "output_type": "execute_result"
    }
   ],
   "source": [
    "Generacion3= 2* alelos.reproduce_population(Generacion2) #reproduzco y lo multiplico por 2 ya que considero que cada mezcla va a tener dos hijos en cambio de 1\n",
    "print(Generacion3) #imprimo la generacion \n",
    "Conteo3= alelos.compute_frequencies(Generacion3)# cuento el numero de parejas formadas\n",
    "print(Conteo3)#imprimo el conteo\n",
    "len(Generacion3)#cuento para saber el numeros de individuos de esta generacion "
   ]
  },
  {
   "cell_type": "code",
   "execution_count": 90,
   "id": "41a00f87",
   "metadata": {},
   "outputs": [
    {
     "name": "stdout",
     "output_type": "stream",
     "text": [
      "[('A', 'A'), ('a', 'A'), ('A', 'A'), ('A', 'A'), ('A', 'A'), ('a', 'A'), ('a', 'a'), ('a', 'A'), ('a', 'A'), ('A', 'a'), ('A', 'A'), ('A', 'a'), ('A', 'A'), ('A', 'a'), ('A', 'A'), ('A', 'A'), ('A', 'A'), ('A', 'a'), ('A', 'a'), ('a', 'a'), ('a', 'A'), ('a', 'A'), ('A', 'A'), ('A', 'A'), ('A', 'a'), ('A', 'A'), ('a', 'A'), ('A', 'A'), ('A', 'A'), ('a', 'A'), ('A', 'A'), ('A', 'A'), ('A', 'A'), ('a', 'A'), ('a', 'a'), ('a', 'A'), ('a', 'A'), ('A', 'a'), ('A', 'A'), ('A', 'a'), ('A', 'A'), ('A', 'a'), ('A', 'A'), ('A', 'A'), ('A', 'A'), ('A', 'a'), ('A', 'a'), ('a', 'a'), ('a', 'A'), ('a', 'A'), ('A', 'A'), ('A', 'A'), ('A', 'a'), ('A', 'A'), ('a', 'A'), ('A', 'A')]\n",
      "{'AA': 26, 'aa': 4, 'Aa': 12, 'aA': 14}\n"
     ]
    },
    {
     "data": {
      "text/plain": [
       "56"
      ]
     },
     "execution_count": 90,
     "metadata": {},
     "output_type": "execute_result"
    }
   ],
   "source": [
    "Generacion4= 2* alelos.reproduce_population(Generacion3) #reproduzco y lo multiplico por 2 ya que considero que cada mezcla va a tener dos hijos en cambio de 1\n",
    "print(Generacion4) #imprimo la generacion \n",
    "Conteo4= alelos.compute_frequencies(Generacion4)# cuento el numero de parejas formadas\n",
    "print(Conteo4)#imprimo el conteo\n",
    "len(Generacion4)#cuento para saber el numeros de individuos de esta generacion "
   ]
  },
  {
   "cell_type": "code",
   "execution_count": 91,
   "id": "d5aa4471",
   "metadata": {},
   "outputs": [
    {
     "name": "stdout",
     "output_type": "stream",
     "text": [
      "[('A', 'A'), ('A', 'A'), ('A', 'a'), ('A', 'A'), ('a', 'a'), ('a', 'A'), ('A', 'A'), ('A', 'A'), ('A', 'a'), ('a', 'a'), ('A', 'A'), ('A', 'a'), ('A', 'a'), ('a', 'A'), ('A', 'A'), ('a', 'A'), ('A', 'a'), ('A', 'a'), ('A', 'A'), ('a', 'A'), ('A', 'a'), ('a', 'A'), ('A', 'A'), ('A', 'a'), ('A', 'A'), ('A', 'A'), ('a', 'A'), ('A', 'A'), ('A', 'a'), ('a', 'A'), ('A', 'A'), ('A', 'A'), ('A', 'A'), ('A', 'A'), ('a', 'a'), ('A', 'A'), ('a', 'A'), ('A', 'a'), ('A', 'A'), ('A', 'A'), ('a', 'A'), ('a', 'A'), ('A', 'A'), ('A', 'A'), ('A', 'A'), ('A', 'A'), ('A', 'a'), ('A', 'A'), ('A', 'A'), ('A', 'a'), ('A', 'A'), ('A', 'a'), ('A', 'A'), ('a', 'A'), ('A', 'A'), ('a', 'A'), ('A', 'A'), ('A', 'A'), ('A', 'a'), ('A', 'A'), ('a', 'a'), ('a', 'A'), ('A', 'A'), ('A', 'A'), ('A', 'a'), ('a', 'a'), ('A', 'A'), ('A', 'a'), ('A', 'a'), ('a', 'A'), ('A', 'A'), ('a', 'A'), ('A', 'a'), ('A', 'a'), ('A', 'A'), ('a', 'A'), ('A', 'a'), ('a', 'A'), ('A', 'A'), ('A', 'a'), ('A', 'A'), ('A', 'A'), ('a', 'A'), ('A', 'A'), ('A', 'a'), ('a', 'A'), ('A', 'A'), ('A', 'A'), ('A', 'A'), ('A', 'A'), ('a', 'a'), ('A', 'A'), ('a', 'A'), ('A', 'a'), ('A', 'A'), ('A', 'A'), ('a', 'A'), ('a', 'A'), ('A', 'A'), ('A', 'A'), ('A', 'A'), ('A', 'A'), ('A', 'a'), ('A', 'A'), ('A', 'A'), ('A', 'a'), ('A', 'A'), ('A', 'a'), ('A', 'A'), ('a', 'A'), ('A', 'A'), ('a', 'A')]\n",
      "{'AA': 56, 'aa': 6, 'Aa': 26, 'aA': 24}\n"
     ]
    },
    {
     "data": {
      "text/plain": [
       "112"
      ]
     },
     "execution_count": 91,
     "metadata": {},
     "output_type": "execute_result"
    }
   ],
   "source": [
    "Generacion5= 2* alelos.reproduce_population(Generacion4) #reproduzco y lo multiplico por 2 ya que considero que cada mezcla va a tener dos hijos en cambio de 1\n",
    "print(Generacion5) #imprimo la generacion \n",
    "Conteo5= alelos.compute_frequencies(Generacion5)# cuento el numero de parejas formadas\n",
    "print(Conteo5)#imprimo el conteo\n",
    "len(Generacion5)#cuento para saber el numeros de individuos de esta generacion "
   ]
  },
  {
   "cell_type": "code",
   "execution_count": null,
   "id": "4e178a7b",
   "metadata": {},
   "outputs": [],
   "source": []
  }
 ],
 "metadata": {
  "kernelspec": {
   "display_name": "Python 3 (ipykernel)",
   "language": "python",
   "name": "python3"
  },
  "language_info": {
   "codemirror_mode": {
    "name": "ipython",
    "version": 3
   },
   "file_extension": ".py",
   "mimetype": "text/x-python",
   "name": "python",
   "nbconvert_exporter": "python",
   "pygments_lexer": "ipython3",
   "version": "3.9.12"
  }
 },
 "nbformat": 4,
 "nbformat_minor": 5
}
